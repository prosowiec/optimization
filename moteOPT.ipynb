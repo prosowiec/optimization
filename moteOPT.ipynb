{
 "cells": [
  {
   "cell_type": "code",
   "execution_count": 2,
   "metadata": {},
   "outputs": [],
   "source": [
    "import numpy as np\n",
    "import copy\n",
    "import matplotlib.pyplot as plt"
   ]
  },
  {
   "cell_type": "code",
   "execution_count": 3,
   "metadata": {},
   "outputs": [
    {
     "data": {
      "text/plain": [
       "array(['111', '500', '20', '80', '50', '180', '1701', '108', '1780', '18',\n",
       "       '10', '178', '10', '109', '1780', '980', '480', '2480', '500',\n",
       "       '30'], dtype='<U11')"
      ]
     },
     "execution_count": 3,
     "metadata": {},
     "output_type": "execute_result"
    }
   ],
   "source": [
    "optMatrix = np.array([['q',111],\n",
    "             ['w',500],\n",
    "             ['e',20],\n",
    "             ['r',80],\n",
    "             ['t',50],\n",
    "             ['y',180],\n",
    "             ['u',1701],\n",
    "             ['i',108],\n",
    "             ['o',1780],\n",
    "             ['p',18],\n",
    "             ['a',10],\n",
    "             ['s',178],\n",
    "             ['d',10],\n",
    "             ['g',109],\n",
    "             ['h',1780],\n",
    "             ['j',980],\n",
    "             ['k',480],\n",
    "             ['l',2480],\n",
    "             ['z',500],\n",
    "             ['x',30]])\n",
    "\n",
    "\n",
    "optMatrix[:,1]"
   ]
  },
  {
   "cell_type": "code",
   "execution_count": 4,
   "metadata": {},
   "outputs": [],
   "source": [
    "def optJobs(jobs, N_bucets = 4):\n",
    "    maksMinGlobal = 9999999\n",
    "    optCost = []\n",
    "    optName = []\n",
    "    optHistoty = []\n",
    "    for k in range(50000):\n",
    "        np.random.shuffle(jobs)\n",
    "        tempList = jobs.copy()\n",
    "        tempCost = jobs[:,1]\n",
    "        tempName = jobs[:,0]\n",
    "\n",
    "        randomIndex = np.arange(len(tempList))\n",
    "\n",
    "        bucketCost = []\n",
    "        bucketName = []\n",
    "        \n",
    "        for j in range(0, N_bucets):\n",
    "            randomIndex = np.arange(len(randomIndex))\n",
    "            if j != N_bucets - 1:\n",
    "                selectRandomIndex = np.random.choice(randomIndex, size = np.random.randint(2,len(randomIndex) // 2), replace = False)\n",
    "            else:\n",
    "                selectRandomIndex = randomIndex\n",
    "            \n",
    "            \n",
    "            radnomCost = np.take(tempCost, selectRandomIndex).astype(int)\n",
    "            randomName = np.take(tempName, selectRandomIndex)\n",
    "\n",
    "            bucketCost.append(radnomCost)\n",
    "            bucketName.append(randomName)\n",
    "\n",
    "            randomIndex = np.delete(randomIndex, selectRandomIndex)\n",
    "            tempCost = np.delete(tempCost, selectRandomIndex)\n",
    "            tempName = np.delete(tempName, selectRandomIndex)\n",
    "        \n",
    "        maksLocal = 0\n",
    "        for costList in bucketCost:\n",
    "            maksLocal = max(maksLocal, np.sum(costList))\n",
    "            \n",
    "        if maksLocal <= maksMinGlobal:\n",
    "            maksMinGlobal = maksLocal\n",
    "            optCost = bucketCost\n",
    "            optName = bucketName\n",
    "            \n",
    "        optHistoty.append(maksMinGlobal)\n",
    "        \n",
    "    return maksMinGlobal, optCost, optName, optHistoty\n",
    "        \n",
    "maksMinGlobal, optCost, optName, optHistoty = optJobs(optMatrix)"
   ]
  },
  {
   "cell_type": "code",
   "execution_count": 5,
   "metadata": {},
   "outputs": [
    {
     "data": {
      "text/plain": [
       "[<matplotlib.lines.Line2D at 0x261a8058be0>]"
      ]
     },
     "execution_count": 5,
     "metadata": {},
     "output_type": "execute_result"
    },
    {
     "data": {
      "image/png": "[encoded data removed]",
      "text/plain": [
       "<Figure size 640x480 with 1 Axes>"
      ]
     },
     "metadata": {},
     "output_type": "display_data"
    }
   ],
   "source": [
    "plt.plot(optHistoty)"
   ]
  },
  {
   "cell_type": "code",
   "execution_count": 6,
   "metadata": {},
   "outputs": [
    {
     "data": {
      "text/plain": [
       "[array([  10,  178, 2480,  109]),\n",
       " array([  30, 1701,   20,   10,  980]),\n",
       " array([ 500,  480, 1780]),\n",
       " array([  18,  108,   80,   50,  111,  180, 1780,  500])]"
      ]
     },
     "execution_count": 6,
     "metadata": {},
     "output_type": "execute_result"
    }
   ],
   "source": [
    "optCost"
   ]
  },
  {
   "cell_type": "code",
   "execution_count": 7,
   "metadata": {},
   "outputs": [
    {
     "data": {
      "text/plain": [
       "[array(['d', 's', 'l', 'g'], dtype='<U11'),\n",
       " array(['x', 'u', 'e', 'a', 'j'], dtype='<U11'),\n",
       " array(['z', 'k', 'o'], dtype='<U11'),\n",
       " array(['p', 'i', 'r', 't', 'q', 'y', 'h', 'w'], dtype='<U11')]"
      ]
     },
     "execution_count": 7,
     "metadata": {},
     "output_type": "execute_result"
    }
   ],
   "source": [
    "optName"
   ]
  },
  {
   "cell_type": "code",
   "execution_count": 8,
   "metadata": {},
   "outputs": [
    {
     "name": "stdout",
     "output_type": "stream",
     "text": [
      "Bucket Cost - [  10  178 2480  109] Elements - ['d' 's' 'l' 'g']\n",
      "Bucket Cost - [  30 1701   20   10  980] Elements - ['x' 'u' 'e' 'a' 'j']\n",
      "Bucket Cost - [ 500  480 1780] Elements - ['z' 'k' 'o']\n",
      "Bucket Cost - [  18  108   80   50  111  180 1780  500] Elements - ['p' 'i' 'r' 't' 'q' 'y' 'h' 'w']\n"
     ]
    }
   ],
   "source": [
    "for cost, name in zip(optCost, optName):\n",
    "    print(\"Bucket Cost -\", cost, \"Elements -\", name)"
   ]
  }
 ],
 "metadata": {
  "kernelspec": {
   "display_name": "Python 3",
   "language": "python",
   "name": "python3"
  },
  "language_info": {
   "codemirror_mode": {
    "name": "ipython",
    "version": 3
   },
   "file_extension": ".py",
   "mimetype": "text/x-python",
   "name": "python",
   "nbconvert_exporter": "python",
   "pygments_lexer": "ipython3",
   "version": "3.10.7"
  }
 },
 "nbformat": 4,
 "nbformat_minor": 2
}
